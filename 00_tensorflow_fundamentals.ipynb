{
  "nbformat": 4,
  "nbformat_minor": 0,
  "metadata": {
    "colab": {
      "name": "00_tensorflow_fundamentals.ipynb",
      "provenance": [],
      "collapsed_sections": [],
      "authorship_tag": "ABX9TyPxKMQgZLfZ1bCP26EDdvdr",
      "include_colab_link": true
    },
    "kernelspec": {
      "name": "python3",
      "display_name": "Python 3"
    },
    "language_info": {
      "name": "python"
    }
  },
  "cells": [
    {
      "cell_type": "markdown",
      "metadata": {
        "id": "view-in-github",
        "colab_type": "text"
      },
      "source": [
        "<a href=\"https://colab.research.google.com/github/ysimonov/Associated-Legendre-Polynomials/blob/master/00_tensorflow_fundamentals.ipynb\" target=\"_parent\"><img src=\"https://colab.research.google.com/assets/colab-badge.svg\" alt=\"Open In Colab\"/></a>"
      ]
    },
    {
      "cell_type": "markdown",
      "source": [
        "# In this notebook some fundamentals of Tensors will be covered\n",
        "\n",
        "Outline:\n",
        "* Introduction to tensors\n",
        "* Getting information from tensors\n",
        "* Manipulation of tensors\n",
        "* Tensors & Numpy\n",
        "* Using @tf.function to speed up python functions\n",
        "* Using GPUs with TensorFlow\n"
      ],
      "metadata": {
        "id": "VCnotmJYnwcK"
      }
    },
    {
      "cell_type": "markdown",
      "source": [
        "Introduction to Tensors"
      ],
      "metadata": {
        "id": "Z0o-gsuPoHA3"
      }
    },
    {
      "cell_type": "code",
      "source": [
        "import tensorflow as tf\n",
        "print(tf.__version__)"
      ],
      "metadata": {
        "colab": {
          "base_uri": "https://localhost:8080/"
        },
        "id": "o_yAXyEwowB3",
        "outputId": "86ccef38-d9dd-4b48-d940-d9edf97d9010"
      },
      "execution_count": 2,
      "outputs": [
        {
          "output_type": "stream",
          "name": "stdout",
          "text": [
            "2.8.2\n"
          ]
        }
      ]
    }
  ]
}